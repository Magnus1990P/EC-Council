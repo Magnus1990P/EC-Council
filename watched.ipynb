{
 "cells": [
  {
   "cell_type": "code",
   "execution_count": 24,
   "metadata": {},
   "outputs": [
    {
     "name": "stdout",
     "output_type": "stream",
     "text": [
      "Black Hat C++: C++ For Pentesters - 0e3e9393-b164-47ad-a777-de279017d530\n",
      "Chapter: Chapter 1: Course Introduction\n",
      "\tMarking 'Course Welcome and Introduction' as watched and watch time 220\n",
      "\tMarking 'High Level Overview of the Course' as watched and watch time 204\n",
      "\tMarking 'The Pros and Cons of C++' as watched and watch time 261\n",
      "\tMarking '$3.5 Million Cybersecurity Scholarship by EC-Council' as watched and watch time 0\n",
      "Chapter: Chapter 2: Setting up a Development Environment\n",
      "\tMarking 'Setting up Visual Studio' as watched and watch time 678\n",
      "\tMarking 'Installing C++ Libraries and Packages' as watched and watch time 691\n",
      "\tMarking 'Intro to C++ Programming' as watched and watch time 492\n",
      "Chapter: Chapter 3: C++ Code Review\n",
      "\tMarking 'Common Vulnerabilities in Code' as watched and watch time 381\n",
      "\tMarking 'Specific Examples of Vulnerable C++ Code' as watched and watch time 436\n",
      "\tMarking 'Exploiting C++ Code' as watched and watch time 431\n",
      "\tMarking 'Preventing Vulnerable C++ Code' as watched and watch time 294\n",
      "Chapter: Chapter 4: Getting Started with Networking\n",
      "\tMarking 'C++ Client' as watched and watch time 797\n",
      "\tMarking 'C++ Server' as watched and watch time 326\n",
      "\tMarking 'Building a Port Scanner' as watched and watch time 378\n",
      "\tMarking 'Building a Web Scraper' as watched and watch time 366\n",
      "\tMarking 'Miscellaneous Protocols' as watched and watch time 302\n",
      "Chapter: Chapter 5: Hacking the Web\n",
      "\tMarking 'HTTP Requests' as watched and watch time 749\n",
      "\tMarking 'Enumeration' as watched and watch time 424\n",
      "\tMarking 'XSS Exploitation' as watched and watch time 330\n",
      "\tMarking 'SQL Injection Exploitation' as watched and watch time 407\n",
      "\tMarking 'Miscellaneous Web Application Vulnerabilities' as watched and watch time 303\n",
      "Chapter: Chapter 6: Windows Exploitation\n",
      "\tMarking 'Creating a Keylogger' as watched and watch time 460\n",
      "Chapter: Chapter 7: Command and Control\n",
      "\tMarking 'Creating the Client' as watched and watch time 554\n",
      "\tMarking 'Creating the Server' as watched and watch time 525\n",
      "Chapter: Chapter 8: Conclusion\n",
      "\tMarking 'Overview of Key Takeaways from the Course' as watched and watch time 338\n",
      "\tMarking 'Thank you and Contact Information' as watched and watch time 115\n"
     ]
    }
   ],
   "source": [
    "from requests import options, post, get\n",
    "import json\n",
    "\n",
    "with open(\"codered_data.txt\") as config:\n",
    "    config_data = config.read().strip().split(\"\\n\")\n",
    "    cookie = {\"codered:user\": config_data[0]}\n",
    "    bearer = {\"Authorization\": f\"Bearer {config_data[1]}\"}\n",
    "\n",
    "COURSE_UUID = \"0e3e9393-b164-47ad-a777-de279017d530\"\n",
    "\n",
    "a = get(f\"https://backend-codered.eccouncil.org/api/v2/course/{COURSE_UUID}/internal\", headers=bearer, cookies=cookie)\n",
    "\n",
    "if a.status_code != 200:\n",
    "    print(a.status_code)\n",
    "    print(a.content)\n",
    "else:\n",
    "    course_data = a.json()[\"data\"]\n",
    "\n",
    "    course_id = [course_data[\"course\"][\"id\"], course_data[\"course\"][\"name\"]]\n",
    "    chapters = []\n",
    "    for chapter in course_data[\"course\"][\"chapters\"]:\n",
    "        chapter_data = {\"id\":chapter[\"id\"], \"name\": chapter[\"name\"], \"lessons\":[]}\n",
    "        chapter_data[\"lessons\"] = [{\"id\":lesson[\"id\"], \"name\":lesson[\"name\"], \"length\":lesson[\"timing\"]} for lesson in chapter[\"lessons\"] if not lesson[\"is_watched\"] and lesson[\"is_available\"]]\n",
    "        chapters.append(chapter_data)\n",
    "\n",
    "    print(f\"{course_id[1]} - {course_id[0]}\")\n",
    "\n",
    "    answer = \"\"\n",
    "    for chapter in chapters:\n",
    "        if answer != \"R!\":\n",
    "            answer = \"\"\n",
    "        print(f\"Chapter: {chapter['name']}\")\n",
    "        for lesson in chapter[\"lessons\"]:\n",
    "            if answer not in [\"R\", \"R!\"]:\n",
    "                answer = input(f\"Mark lesson {lesson['name']} as watched?\")\n",
    "            if answer == \"S\":\n",
    "                break\n",
    "            if answer in [\"Y\", \"y\", \"R\", \"R!\"]:\n",
    "                print(f\"\\tMarking '{lesson['name']}' as watched and watch time {lesson['length']}\")\n",
    "                a = post(f\"https://backend-codered.eccouncil.org/api/v2/lesson/{lesson['id']}/action/watched\", \n",
    "                         data={}, cookies=cookie, headers=bearer)\n",
    "                if a.status_code != 200:\n",
    "                    print(f\"\\t\\t{a.status_code} - {a.content}\")\n",
    "\n",
    "                a = post(f\"https://backend-codered.eccouncil.org/api/v2/lesson/{lesson['id']}/action/watchedTime\", \n",
    "                         data={\"watched_time\": 300}, cookies=cookie, headers=bearer)\n",
    "                if a.status_code != 200:\n",
    "                    print(f\"\\t\\t{a.status_code} - {a.content}\")"
   ]
  },
  {
   "cell_type": "code",
   "execution_count": 23,
   "metadata": {},
   "outputs": [
    {
     "name": "stdout",
     "output_type": "stream",
     "text": [
      "False\n"
     ]
    }
   ],
   "source": [
    "print( \"john\"== \"james\" and 7!=8 )"
   ]
  }
 ],
 "metadata": {
  "kernelspec": {
   "display_name": "Python 3",
   "language": "python",
   "name": "python3"
  },
  "language_info": {
   "codemirror_mode": {
    "name": "ipython",
    "version": 3
   },
   "file_extension": ".py",
   "mimetype": "text/x-python",
   "name": "python",
   "nbconvert_exporter": "python",
   "pygments_lexer": "ipython3",
   "version": "3.12.2"
  }
 },
 "nbformat": 4,
 "nbformat_minor": 2
}
